{
 "cells": [
  {
   "cell_type": "code",
   "execution_count": 10,
   "metadata": {},
   "outputs": [],
   "source": [
    "from sklearn.feature_extraction.text import CountVectorizer\n",
    "from sklearn.preprocessing import MaxAbsScaler\n",
    "from sklearn.model_selection import train_test_split\n",
    "from sklearn.ensemble import GradientBoostingClassifier\n",
    "import pandas as pd\n",
    "import numpy as np\n",
    "\n",
    "vectorizer = CountVectorizer(analyzer='char_wb', ngram_range=(1, 8))\n",
    "location = r'D:\\Testing_Name.csv'\n",
    "data = pd.read_csv(location)\n",
    "for gender in data[\"Gender\"]:\n",
    "  if gender == 3:\n",
    "    data.drop(data.index[0], inplace = True)\n",
    "y = data[\"Gender\"]\n",
    "data.drop(labels=\"Gender\", inplace = True, axis = 1)\n",
    "X = vectorizer.fit_transform(data['Name'])\n",
    "\n",
    "scaler = MaxAbsScaler()\n",
    "X = scaler.fit_transform(X)\n",
    "val_size = 0.2\n",
    "state = 12\n",
    "X_train, X_val, y_train, y_val = train_test_split(X, y,\n",
    "                                                 test_size=val_size,\n",
    "                                                 random_state=state,\n",
    "                                                 shuffle = True)\n",
    "\n"
   ]
  },
  {
   "cell_type": "code",
   "execution_count": 11,
   "metadata": {},
   "outputs": [
    {
     "name": "stdout",
     "output_type": "stream",
     "text": [
      "      Iter       Train Loss   Remaining Time \n",
      "         1       66346.3790           12.32m\n",
      "         2       66158.0901           13.34m\n",
      "         3       65923.6423           13.80m\n",
      "         4       65731.9894           12.58m\n",
      "         5       64446.8608           11.76m\n",
      "         6       64047.7847           10.95m\n",
      "         7       63756.7339           10.89m\n",
      "         8       63401.2458           10.75m\n",
      "         9       62992.5411           10.64m\n",
      "        10       62707.6219           10.58m\n",
      "        20       60779.4525            9.96m\n",
      "        30       58770.5511            8.75m\n",
      "        40       56716.0044            7.48m\n",
      "        50       54594.5064            6.42m\n",
      "        60       53195.2766            4.98m\n",
      "        70       51720.3498            3.76m\n",
      "        80       50506.2861            2.50m\n",
      "        90       49304.4259            1.25m\n",
      "       100       48353.6132            0.00s\n",
      "Min Samples Split:  1500\n",
      "Accuracy score (training):0.807\n",
      "Accuracy score (validation):0.801\n"
     ]
    }
   ],
   "source": [
    "learning_rate = 0.1\n",
    "n_estimators = 100\n",
    "max_features = 'sqrt'\n",
    "max_depth = 10\n",
    "min_samples_split = 1500\n",
    "min_samples_leaf = 50\n",
    "\n",
    "gb_clf = GradientBoostingClassifier(learning_rate=learning_rate,\n",
    "                                     n_estimators=n_estimators,\n",
    "                                     max_features=max_features,\n",
    "                                     max_depth=12,\n",
    "                                     min_samples_split=min_samples_split,\n",
    "                                     min_samples_leaf=min_samples_leaf,\n",
    "                                     verbose=1,\n",
    "                                     random_state=0)\n",
    "gb_clf.fit(X_train, y_train)\n",
    "print(\"Min Samples Split: \", min_samples_split)\n",
    "print(\"Accuracy score (training):{0:.3f}\".format(gb_clf.score(X_train, y_train)))\n",
    "print(\"Accuracy score (validation):{0:.3f}\".format(gb_clf.score(X_val, y_val)))"
   ]
  },
  {
   "cell_type": "code",
   "execution_count": 13,
   "metadata": {},
   "outputs": [],
   "source": [
    "import pickle\n",
    "\n",
    "modelGenderClassification = r'C:\\Users\\Sagar Mishra\\jupyter notebooks\\genderClassificationV4.sav'\n",
    "pickle.dump(gb_clf, open(modelGenderClassification, 'wb'))"
   ]
  },
  {
   "cell_type": "code",
   "execution_count": null,
   "metadata": {},
   "outputs": [],
   "source": []
  }
 ],
 "metadata": {
  "kernelspec": {
   "display_name": "Python 3",
   "language": "python",
   "name": "python3"
  },
  "language_info": {
   "codemirror_mode": {
    "name": "ipython",
    "version": 3
   },
   "file_extension": ".py",
   "mimetype": "text/x-python",
   "name": "python",
   "nbconvert_exporter": "python",
   "pygments_lexer": "ipython3",
   "version": "3.7.4"
  }
 },
 "nbformat": 4,
 "nbformat_minor": 2
}
