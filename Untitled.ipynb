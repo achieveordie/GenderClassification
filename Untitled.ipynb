{
 "cells": [
  {
   "cell_type": "code",
   "execution_count": 42,
   "metadata": {},
   "outputs": [],
   "source": [
    "import pickle\n",
    "import pandas as pd\n",
    "import os\n",
    "import numpy as np\n",
    "from sklearn.ensemble import GradientBoostingClassifier\n",
    "from sklearn.preprocessing import MinMaxScaler\n",
    "import warnings\n",
    "warnings.simplefilter('ignore')\n",
    "\n",
    "def preprocess():\n",
    "  nameToCheck = input('Enter the name  ')\n",
    "  content = {'Name': [nameToCheck]}\n",
    "  data = pd.DataFrame(content)\n",
    "  data['length'] = data.apply(lambda row: len(row.Name), axis=1)\n",
    "  \n",
    "  vowels = 'aeiou'\n",
    "  data['no_of_vowels'] = 0\n",
    "  data['percentage_of_vowels'] = 0.0\n",
    "  data['ends_with_vowels'] = 0\n",
    "\n",
    "  for i, names in enumerate(data['Name']):\n",
    "    count_vowels = 0\n",
    "    for alpha in names.lower():\n",
    "      if alpha in vowels:\n",
    "        count_vowels += 1\n",
    "    data['no_of_vowels'][i] = count_vowels\n",
    "    data['percentage_of_vowels'][i] = count_vowels/(len(names))\n",
    "    if names[len(names)-1] in vowels:\n",
    "      data['ends_with_vowels'][i] = 1\n",
    "    else:\n",
    "      data['ends_with_vowels'][i] = 0\n",
    "    \n",
    "  maxLength = 21\n",
    "\n",
    "  initial = 'abcdefghijklm'\n",
    "  final = 'nopqrstuvwxyz'\n",
    "  dict_alpha = {}\n",
    "  for i in (initial+final):\n",
    "    if i in initial:\n",
    "      dict_alpha[i] = float(ord(i) -96 -14)\n",
    "    if i in final:\n",
    "      dict_alpha[i] = float(ord(i) -96 -13)\n",
    "  dict_alpha[\"'\"] = 0.0\n",
    "  dict_alpha[\"-\"] = 0.0\n",
    "  dict_alpha[\",\"] = 0.0\n",
    "  dict_alpha[\" \"] = 0.0\n",
    "  dict_alpha[\".\"] = 0.0\n",
    "  dict_alpha[\"\\\\\"] = 0.0\n",
    "  dict_alpha[\"/\"] = 0.0\n",
    "  dict_alpha[\"(\"] = 0.0\n",
    "  dict_alpha[\")\"] = 0.0\n",
    "  dict_alpha[\"[\"] = 0.0\n",
    "  dict_alpha[\"]\"] = 0.0\n",
    "  dict_alpha[\"{\"] = 0.0\n",
    "  dict_alpha[\"}\"] = 0.0\n",
    "\n",
    "  for i in range(10):\n",
    "    dict_alpha[str(i)] = 0.0\n",
    "\n",
    "  for i in range(22):\n",
    "    data[\"{}st_character\".format(i)] = 0\n",
    "\n",
    "  for i, names in enumerate(data['Name']):\n",
    "    for j in range(maxLength):\n",
    "      if j < len(names):\n",
    "        data[\"{}st_character\".format(j)][i] = dict_alpha[names[j].lower()]\n",
    "      else:\n",
    "        data[\"{}st_character\".format(j)][i] = 0.0\n",
    "\n",
    "  data.drop('Name', inplace=True, axis=1)\n",
    "  return data\n",
    "  \n",
    "def training(data):\n",
    "  X = data.values\n",
    "  model_location = r'C:\\Users\\Sagar Mishra\\jupyter notebooks\\GenderClassification\\genderClassification_withoutScore.sav'\n",
    "  loaded_model = pickle.load(open(model_location, 'rb'))\n",
    "  \n",
    "  scaler = MinMaxScaler()\n",
    "  X = scaler.fit_transform(X)\n",
    "  Y = loaded_model.predict_proba(X)\n",
    "  print(Y)"
   ]
  },
  {
   "cell_type": "code",
   "execution_count": 43,
   "metadata": {},
   "outputs": [
    {
     "name": "stdout",
     "output_type": "stream",
     "text": [
      "Enter the name  Vinay\n"
     ]
    }
   ],
   "source": [
    "data = preprocess()"
   ]
  },
  {
   "cell_type": "code",
   "execution_count": 44,
   "metadata": {},
   "outputs": [
    {
     "name": "stdout",
     "output_type": "stream",
     "text": [
      "[[0. 1. 0.]]\n"
     ]
    }
   ],
   "source": [
    "training(data)"
   ]
  },
  {
   "cell_type": "code",
   "execution_count": 45,
   "metadata": {},
   "outputs": [
    {
     "name": "stdout",
     "output_type": "stream",
     "text": [
      "46049\n",
      "70860\n"
     ]
    }
   ],
   "source": [
    "data_location = r'D:\\Datasets\\gender-names\\gender_refine-csv.csv'\n",
    "data_csv = pd.read_csv(data_location)\n",
    "females = 0\n",
    "males = 0\n",
    "for gender in data_csv[\"Gender\"]:\n",
    "  if gender == 0:\n",
    "    females += 1\n",
    "  if gender == 1:\n",
    "    males += 1\n",
    "print(males)\n",
    "print(females)"
   ]
  },
  {
   "cell_type": "code",
   "execution_count": null,
   "metadata": {},
   "outputs": [],
   "source": []
  }
 ],
 "metadata": {
  "kernelspec": {
   "display_name": "Python 3",
   "language": "python",
   "name": "python3"
  },
  "language_info": {
   "codemirror_mode": {
    "name": "ipython",
    "version": 3
   },
   "file_extension": ".py",
   "mimetype": "text/x-python",
   "name": "python",
   "nbconvert_exporter": "python",
   "pygments_lexer": "ipython3",
   "version": "3.7.4"
  }
 },
 "nbformat": 4,
 "nbformat_minor": 2
}
