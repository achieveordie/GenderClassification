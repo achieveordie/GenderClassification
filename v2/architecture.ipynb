{
 "cells": [
  {
   "cell_type": "code",
   "execution_count": 1,
   "metadata": {
    "collapsed": true
   },
   "outputs": [],
   "source": [
    "from sklearn.feature_extraction.text import CountVectorizer\n",
    "from sklearn.preprocessing import MaxAbsScaler\n",
    "from VotingClassifier import VotingClassifier\n",
    "import pandas as pd\n",
    "from pathlib import Path\n",
    "from sklearn.ensemble import GradientBoostingClassifier, AdaBoostClassifier\n",
    "from sklearn.feature_selection import SelectFromModel\n",
    "from sklearn.svm import LinearSVC\n",
    "from tabulate import tabulate"
   ]
  },
  {
   "cell_type": "code",
   "execution_count": 2,
   "outputs": [],
   "source": [
    "gbc_params = {\n",
    "    \"learning_rate\": 0.85,\n",
    "    \"max_features\": 0.05,\n",
    "    \"max_depth\": 10,\n",
    "    \"min_samples_split\": 520,\n",
    "    \"min_samples_leaf\": 15,\n",
    "    \"n_estimators\": 400\n",
    "}\n",
    "\n",
    "abc_params = {\n",
    "    \"algorithm\": \"SAMME.R\",\n",
    "    \"learning_rate\": 0.90,\n",
    "    \"n_estimators\": 500\n",
    "}\n",
    "\n",
    "lsvc_params = {\"C\": 0.1}"
   ],
   "metadata": {
    "collapsed": false,
    "pycharm": {
     "name": "#%%\n"
    }
   }
  },
  {
   "cell_type": "code",
   "execution_count": 3,
   "outputs": [],
   "source": [
    "# train data\n",
    "base = Path().resolve().parents[1] / r'data/subsets/gender_final_small'\n",
    "locations = [str(base) + str(i) + '.csv' for i in range(1, 10)]\n",
    "\n",
    "# Have 9000 names sampled at random.\n",
    "X = pd.concat([pd.read_csv(location) for location in locations], axis=0)\n",
    "y = X[\"Gender\"]\n",
    "X.drop(labels=\"Gender\", inplace=True, axis=1)\n",
    "\n",
    "# validation data\n",
    "validation_data = Path().resolve().parents[1] / 'data/gender_final_small.csv'\n",
    "X_val = pd.read_csv(validation_data)\n",
    "y_val = X_val[\"Gender\"]\n",
    "X_val.drop(labels=\"Gender\", inplace=True, axis=1)"
   ],
   "metadata": {
    "collapsed": false,
    "pycharm": {
     "name": "#%%\n"
    }
   }
  },
  {
   "cell_type": "code",
   "execution_count": 4,
   "outputs": [],
   "source": [
    "# vectorize and convert to floats\n",
    "vectorizer = CountVectorizer(analyzer='char', ngram_range=(2,10), decode_error='replace', binary=True)\n",
    "scaler = MaxAbsScaler()\n",
    "\n",
    "X = vectorizer.fit_transform(X['Name'])\n",
    "X = scaler.fit_transform(X)\n",
    "\n",
    "X_val = vectorizer.transform(X_val['Name'])\n",
    "X_val = scaler.transform(X_val)"
   ],
   "metadata": {
    "collapsed": false,
    "pycharm": {
     "name": "#%%\n"
    }
   }
  },
  {
   "cell_type": "code",
   "execution_count": 5,
   "outputs": [],
   "source": [
    "abc_clf = AdaBoostClassifier(algorithm=abc_params[\"algorithm\"],\n",
    "                             n_estimators=abc_params[\"n_estimators\"],\n",
    "                             learning_rate=abc_params[\"learning_rate\"],\n",
    "                             random_state=0)\n",
    "\n",
    "gbc_clf = GradientBoostingClassifier(learning_rate=gbc_params[\"learning_rate\"],\n",
    "                                     max_features=gbc_params[\"max_features\"],\n",
    "                                     min_samples_split=gbc_params[\"min_samples_split\"],\n",
    "                                     n_estimators=gbc_params[\"n_estimators\"],\n",
    "                                     max_depth=gbc_params[\"max_depth\"],\n",
    "                                     min_samples_leaf=gbc_params[\"min_samples_leaf\"],\n",
    "                                     random_state=0)\n",
    "\n",
    "lsvc_clf = LinearSVC(C=lsvc_params['C'])\n",
    "X_selected_main = []\n",
    "X_val_selected_main = []"
   ],
   "metadata": {
    "collapsed": false,
    "pycharm": {
     "name": "#%%\n"
    }
   }
  },
  {
   "cell_type": "code",
   "execution_count": 6,
   "outputs": [
    {
     "name": "stdout",
     "output_type": "stream",
     "text": [
      "Using all features:Training  0.9934444444444445\n",
      "Using all features:Validation  0.838\n",
      "Shaped reduced from 63889 to 23805, difference is 40084\n",
      "Using selected features:Training  0.9921111111111112\n",
      "Using selected features:Validation  0.841\n"
     ]
    }
   ],
   "source": [
    "lsvc_clf.fit(X, y)\n",
    "print(\"Using all features:Training \", lsvc_clf.score(X, y))\n",
    "print(\"Using all features:Validation \", lsvc_clf.score(X_val, y_val))\n",
    "\n",
    "selector = SelectFromModel(lsvc_clf, prefit=True)\n",
    "X_selected = selector.transform(X)\n",
    "X_selected_main.append(X_selected)\n",
    "X_val_selected = selector.transform(X_val)\n",
    "X_val_selected_main.append(X_val_selected)\n",
    "print(\"Shaped reduced from {} to {}, difference is {}\".format(X.shape[1],\n",
    "                                                              X_selected.shape[1],\n",
    "                                                              X.shape[1] - X_selected.shape[1]))\n",
    "\n",
    "lsvc_clf.fit(X_selected, y)\n",
    "print(\"Using selected features:Training \", lsvc_clf.score(X_selected, y))\n",
    "print(\"Using selected features:Validation \", lsvc_clf.score(X_val_selected, y_val))"
   ],
   "metadata": {
    "collapsed": false,
    "pycharm": {
     "name": "#%%\n"
    }
   }
  },
  {
   "cell_type": "code",
   "execution_count": 7,
   "outputs": [
    {
     "name": "stdout",
     "output_type": "stream",
     "text": [
      "Using all features:Training  0.8517777777777777\n",
      "Using all features:Validation  0.786\n",
      "Shaped reduced from 63889 to 434, difference is 63455\n",
      "Using selected features:Training  0.8517777777777777\n",
      "Using selected features:Validation  0.786\n"
     ]
    }
   ],
   "source": [
    "abc_clf.fit(X, y)\n",
    "print(\"Using all features:Training \", abc_clf.score(X, y))\n",
    "print(\"Using all features:Validation \", abc_clf.score(X_val, y_val))\n",
    "\n",
    "selector = SelectFromModel(abc_clf, prefit=True)\n",
    "X_selected = selector.transform(X)\n",
    "X_selected_main.append(X_selected)\n",
    "X_val_selected = selector.transform(X_val)\n",
    "X_val_selected_main.append(X_val_selected)\n",
    "print(\"Shaped reduced from {} to {}, difference is {}\".format(X.shape[1],\n",
    "                                                              X_selected.shape[1],\n",
    "                                                              X.shape[1] - X_selected.shape[1]))\n",
    "\n",
    "abc_clf.fit(X_selected, y)\n",
    "print(\"Using selected features:Training \", abc_clf.score(X_selected, y))\n",
    "print(\"Using selected features:Validation \", abc_clf.score(X_val_selected, y_val))"
   ],
   "metadata": {
    "collapsed": false,
    "pycharm": {
     "name": "#%%\n"
    }
   }
  },
  {
   "cell_type": "code",
   "execution_count": 8,
   "outputs": [
    {
     "name": "stdout",
     "output_type": "stream",
     "text": [
      "Using all features:Training  0.9297777777777778\n",
      "Using all features:Validation  0.8\n",
      "Shaped reduced from 63889 to 1088, difference is 62801\n",
      "Using selected features:Training  0.9295555555555556\n",
      "Using selected features:Validation  0.816\n"
     ]
    }
   ],
   "source": [
    "gbc_clf.fit(X, y)\n",
    "print(\"Using all features:Training \", gbc_clf.score(X, y))\n",
    "print(\"Using all features:Validation \", gbc_clf.score(X_val, y_val))\n",
    "\n",
    "selector = SelectFromModel(gbc_clf, prefit=True)\n",
    "X_selected = selector.transform(X)\n",
    "X_selected_main.append(X_selected)\n",
    "X_val_selected = selector.transform(X_val)\n",
    "X_val_selected_main.append(X_val_selected)\n",
    "print(\"Shaped reduced from {} to {}, difference is {}\".format(X.shape[1],\n",
    "                                                              X_selected.shape[1],\n",
    "                                                              X.shape[1] - X_selected.shape[1]))\n",
    "\n",
    "gbc_clf.fit(X_selected, y)\n",
    "print(\"Using selected features:Training \", gbc_clf.score(X_selected, y))\n",
    "print(\"Using selected features:Validation \", gbc_clf.score(X_val_selected, y_val))"
   ],
   "metadata": {
    "collapsed": false,
    "pycharm": {
     "name": "#%%\n"
    }
   }
  },
  {
   "cell_type": "code",
   "execution_count": 9,
   "outputs": [
    {
     "name": "stdout",
     "output_type": "stream",
     "text": [
      "0 (9000, 23805)\n",
      "1 (9000, 434)\n",
      "2 (9000, 1088)\n"
     ]
    }
   ],
   "source": [
    "for i, _ in enumerate(X_selected_main):\n",
    "    print(i, _.shape)"
   ],
   "metadata": {
    "collapsed": false,
    "pycharm": {
     "name": "#%%\n"
    }
   }
  },
  {
   "cell_type": "code",
   "execution_count": 9,
   "outputs": [
    {
     "name": "stdout",
     "output_type": "stream",
     "text": [
      "`refit` set to False, not refitting the base estimators\n"
     ]
    }
   ],
   "source": [
    "main_clf_hard = VotingClassifier(clfs=[lsvc_clf, abc_clf, gbc_clf], voting='hard')\n",
    "main_clf_soft = VotingClassifier(clfs=[lsvc_clf, abc_clf, gbc_clf])\n",
    "main_clf_hard.fit(X_selected_main, y)"
   ],
   "metadata": {
    "collapsed": false,
    "pycharm": {
     "name": "#%%\n"
    }
   }
  },
  {
   "cell_type": "code",
   "execution_count": 10,
   "outputs": [
    {
     "name": "stdout",
     "output_type": "stream",
     "text": [
      "3 9000\n",
      "3 1000\n"
     ]
    }
   ],
   "source": [
    "print(len(X_selected_main), len(y))\n",
    "print(len(X_val_selected_main), len(y_val))"
   ],
   "metadata": {
    "collapsed": false,
    "pycharm": {
     "name": "#%%\n"
    }
   }
  },
  {
   "cell_type": "code",
   "execution_count": 11,
   "outputs": [
    {
     "name": "stdout",
     "output_type": "stream",
     "text": [
      "Hard Combined training score is  0.9244814814814815\n",
      "Hard Combined Validation score is  0.8143333333333334\n",
      "Soft Combined training score is  0.9244814814814815\n",
      "Soft Combined Validation score is  0.8143333333333334\n"
     ]
    }
   ],
   "source": [
    "# Will be same because there is no role of voting in score method.\n",
    "print(\"Hard Combined training score is \", main_clf_hard.score(X_selected_main, y))\n",
    "print(\"Hard Combined Validation score is \", main_clf_hard.score(X_val_selected_main, y_val))\n",
    "\n",
    "print(\"Soft Combined training score is \", main_clf_soft.score(X_selected_main, y))\n",
    "print(\"Soft Combined Validation score is \", main_clf_soft.score(X_val_selected_main, y_val))"
   ],
   "metadata": {
    "collapsed": false,
    "pycharm": {
     "name": "#%%\n"
    }
   }
  },
  {
   "cell_type": "code",
   "execution_count": 12,
   "outputs": [],
   "source": [
    "X_predict_main, y_predict_main = [], []\n",
    "[X_predict_main.append(x[0:100]) for x in X_val_selected_main]\n",
    "[y_predict_main.append(y) for y in y_val[0:100]];"
   ],
   "metadata": {
    "collapsed": false,
    "pycharm": {
     "name": "#%%\n"
    }
   }
  },
  {
   "cell_type": "code",
   "execution_count": 13,
   "outputs": [],
   "source": [
    "predicted_soft = main_clf_soft.predict(X_predict_main)\n",
    "predicted_hard = main_clf_hard.predict(X_predict_main)"
   ],
   "metadata": {
    "collapsed": false,
    "pycharm": {
     "name": "#%%\n"
    }
   }
  },
  {
   "cell_type": "code",
   "execution_count": 14,
   "outputs": [
    {
     "name": "stdout",
     "output_type": "stream",
     "text": [
      "  Original Value    Hard-Predicted Value    Soft-Predicted Value\n",
      "----------------  ----------------------  ----------------------\n",
      "               0                       0                       0\n",
      "               0                       0                       0\n",
      "               0                       0                       0\n",
      "               1                       1                       1\n",
      "               1                       1                       1\n",
      "               1                       1                       1\n",
      "               1                       1                       1\n",
      "               1                       1                       1\n",
      "               1                       1                       1\n",
      "               1                       0                       0\n",
      "               0                       1                       0\n",
      "               1                       1                       1\n",
      "               1                       1                       1\n",
      "               1                       1                       1\n",
      "               0                       1                       1\n",
      "               0                       0                       0\n",
      "               1                       1                       1\n",
      "               0                       1                       1\n",
      "               0                       0                       0\n",
      "               0                       0                       0\n",
      "               0                       0                       0\n",
      "               0                       1                       1\n",
      "               1                       1                       1\n",
      "               0                       0                       0\n",
      "               1                       1                       1\n",
      "               1                       1                       1\n",
      "               1                       1                       1\n",
      "               0                       1                       1\n",
      "               0                       0                       0\n",
      "               1                       1                       1\n",
      "               1                       1                       1\n",
      "               0                       0                       0\n",
      "               0                       1                       1\n",
      "               1                       1                       1\n",
      "               0                       0                       0\n",
      "               0                       0                       0\n",
      "               0                       0                       0\n",
      "               1                       0                       0\n",
      "               0                       0                       0\n",
      "               1                       1                       1\n",
      "               1                       1                       1\n",
      "               1                       0                       0\n",
      "               1                       1                       1\n",
      "               1                       1                       1\n",
      "               0                       0                       0\n",
      "               0                       0                       0\n",
      "               1                       1                       1\n",
      "               0                       0                       0\n",
      "               1                       0                       0\n",
      "               1                       1                       1\n",
      "               1                       1                       1\n",
      "               0                       1                       1\n",
      "               1                       1                       1\n",
      "               0                       0                       0\n",
      "               1                       1                       1\n",
      "               0                       1                       1\n",
      "               1                       1                       1\n",
      "               0                       0                       0\n",
      "               0                       0                       0\n",
      "               0                       0                       0\n",
      "               1                       1                       1\n",
      "               1                       1                       1\n",
      "               0                       1                       1\n",
      "               1                       0                       0\n",
      "               0                       0                       0\n",
      "               0                       0                       0\n",
      "               1                       0                       0\n",
      "               0                       0                       0\n",
      "               1                       1                       1\n",
      "               1                       1                       1\n",
      "               1                       1                       1\n",
      "               1                       1                       1\n",
      "               0                       1                       1\n",
      "               1                       1                       1\n",
      "               0                       0                       0\n",
      "               1                       1                       1\n",
      "               0                       0                       0\n",
      "               0                       0                       1\n",
      "               0                       0                       0\n",
      "               1                       0                       0\n",
      "               1                       1                       1\n",
      "               1                       0                       0\n",
      "               0                       0                       0\n",
      "               0                       0                       0\n",
      "               0                       0                       0\n",
      "               1                       1                       1\n",
      "               0                       0                       0\n",
      "               1                       1                       1\n",
      "               1                       1                       1\n",
      "               1                       1                       1\n",
      "               1                       0                       0\n",
      "               0                       0                       0\n",
      "               0                       0                       0\n",
      "               0                       1                       1\n",
      "               1                       1                       1\n",
      "               1                       1                       1\n",
      "               0                       1                       1\n",
      "               1                       1                       1\n",
      "               1                       1                       1\n",
      "               0                       0                       0\n"
     ]
    }
   ],
   "source": [
    "predict_table = {\"Original Value\": y_predict_main,\n",
    "                 \"Hard-Predicted Value\": predicted_hard,\n",
    "                 \"Soft-Predicted Value\": predicted_soft}\n",
    "print(tabulate(predict_table, headers=\"keys\"))"
   ],
   "metadata": {
    "collapsed": false,
    "pycharm": {
     "name": "#%%\n"
    }
   }
  },
  {
   "cell_type": "code",
   "execution_count": 15,
   "outputs": [
    {
     "name": "stdout",
     "output_type": "stream",
     "text": [
      "Hard-Mismatch:  21\n",
      "Soft-Mismatch:  21\n",
      "Hard-Correct:  79\n",
      "Soft-Correct:  79\n",
      "Percent Hard-Correct:  0.79\n",
      "Percent Soft-Correct:  0.79\n"
     ]
    }
   ],
   "source": [
    "# Both are messing up in different places\n",
    "mismatched_soft, mismatched_hard = 0, 0\n",
    "for (true, predict_hard, predict_soft) in zip(y_predict_main, predicted_hard, predicted_soft):\n",
    "    if true != predict_hard:\n",
    "        mismatched_hard += 1\n",
    "    if true != predict_soft:\n",
    "        mismatched_soft += 1\n",
    "\n",
    "print(\"Hard-Mismatch: \", mismatched_hard)\n",
    "print(\"Soft-Mismatch: \", mismatched_soft)\n",
    "\n",
    "print(\"Hard-Correct: \", len(y_predict_main) - mismatched_hard)\n",
    "print(\"Soft-Correct: \", len(y_predict_main) - mismatched_soft)\n",
    "\n",
    "print(\"Percent Hard-Correct: \", round((len(y_predict_main) - mismatched_hard) / len(y_predict_main), 3))\n",
    "print(\"Percent Soft-Correct: \", round((len(y_predict_main) - mismatched_soft) / len(y_predict_main), 3))"
   ],
   "metadata": {
    "collapsed": false,
    "pycharm": {
     "name": "#%%\n"
    }
   }
  },
  {
   "cell_type": "code",
   "execution_count": 16,
   "outputs": [],
   "source": [
    "train_predict_soft = main_clf_soft.predict(X_selected_main)\n",
    "val_predict_soft = main_clf_soft.predict(X_val_selected_main)\n",
    "\n",
    "train_predict_hard = main_clf_hard.predict(X_selected_main)\n",
    "val_predict_hard = main_clf_hard.predict(X_val_selected_main)"
   ],
   "metadata": {
    "collapsed": false,
    "pycharm": {
     "name": "#%%\n"
    }
   }
  },
  {
   "cell_type": "code",
   "execution_count": 18,
   "outputs": [
    {
     "name": "stdout",
     "output_type": "stream",
     "text": [
      "Training Accuracy: Hard->0.9533333333333334\tSoft->0.9547777777777777\n",
      "Validation Accuracy: Hard->0.836\tSoft->0.821\n"
     ]
    }
   ],
   "source": [
    "train_acc_soft, val_acc_soft, train_acc_hard, val_acc_hard = 0, 0, 0, 0\n",
    "for (true, train_hard, train_soft) in zip(y, train_predict_hard, train_predict_soft):\n",
    "    if true == train_hard:\n",
    "        train_acc_hard += 1\n",
    "    if true == train_soft:\n",
    "        train_acc_soft += 1\n",
    "\n",
    "\n",
    "for (true, val_hard, val_soft) in zip(y_val, val_predict_hard, val_predict_soft):\n",
    "    if true == val_hard:\n",
    "        val_acc_hard += 1\n",
    "    if true == val_soft:\n",
    "        val_acc_soft += 1\n",
    "\n",
    "train_acc_hard /= len(y)\n",
    "train_acc_soft /= len(y)\n",
    "\n",
    "val_acc_hard /= len(y_val)\n",
    "val_acc_soft /= len(y_val)\n",
    "\n",
    "print(f\"Training Accuracy: Hard->{train_acc_hard}\\tSoft->{train_acc_soft}\")\n",
    "print(f\"Validation Accuracy: Hard->{val_acc_hard}\\tSoft->{val_acc_soft}\")"
   ],
   "metadata": {
    "collapsed": false,
    "pycharm": {
     "name": "#%%\n"
    }
   }
  },
  {
   "cell_type": "code",
   "execution_count": 22,
   "outputs": [
    {
     "data": {
      "text/plain": "[]"
     },
     "execution_count": 22,
     "metadata": {},
     "output_type": "execute_result"
    },
    {
     "data": {
      "text/plain": "<Figure size 432x288 with 2 Axes>",
      "image/png": "[encoded data removed]"
     },
     "metadata": {
      "needs_background": "light"
     },
     "output_type": "display_data"
    }
   ],
   "source": [
    "from sklearn.metrics import confusion_matrix\n",
    "import seaborn as sns\n",
    "import matplotlib.pyplot as plt\n",
    "\n",
    "cf_matrix_train = confusion_matrix(y, train_predict_hard)\n",
    "sns.heatmap(cf_matrix_train/sum(cf_matrix_train) * 100.0,\n",
    "            cmap=\"Blues\", annot=True, xticklabels=['True-F', 'True-M'],\n",
    "            yticklabels=['Pred-F', 'Pred-M'])\n",
    "plt.plot()"
   ],
   "metadata": {
    "collapsed": false,
    "pycharm": {
     "name": "#%%\n"
    }
   }
  },
  {
   "cell_type": "code",
   "execution_count": 23,
   "outputs": [
    {
     "data": {
      "text/plain": "[]"
     },
     "execution_count": 23,
     "metadata": {},
     "output_type": "execute_result"
    },
    {
     "data": {
      "text/plain": "<Figure size 432x288 with 2 Axes>",
      "image/png": "[encoded data removed]"
     },
     "metadata": {
      "needs_background": "light"
     },
     "output_type": "display_data"
    }
   ],
   "source": [
    "cf_matrix_val = confusion_matrix(y_val, val_predict_hard)\n",
    "sns.heatmap(cf_matrix_val/sum(cf_matrix_val) * 100.0,\n",
    "            cmap=\"Blues\", annot=True, xticklabels=['True-F', 'True-M'],\n",
    "            yticklabels=['Pred-F', 'Pred-M'])\n",
    "plt.plot()\n"
   ],
   "metadata": {
    "collapsed": false,
    "pycharm": {
     "name": "#%%\n"
    }
   }
  }
 ],
 "metadata": {
  "kernelspec": {
   "display_name": "Python 3",
   "language": "python",
   "name": "python3"
  },
  "language_info": {
   "codemirror_mode": {
    "name": "ipython",
    "version": 2
   },
   "file_extension": ".py",
   "mimetype": "text/x-python",
   "name": "python",
   "nbconvert_exporter": "python",
   "pygments_lexer": "ipython2",
   "version": "2.7.6"
  }
 },
 "nbformat": 4,
 "nbformat_minor": 0
}