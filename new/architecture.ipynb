{
 "cells": [
  {
   "cell_type": "code",
   "execution_count": 1,
   "metadata": {
    "collapsed": true
   },
   "outputs": [],
   "source": [
    "from sklearn.feature_extraction.text import CountVectorizer\n",
    "from sklearn.preprocessing import MaxAbsScaler\n",
    "from sklearn.model_selection import train_test_split, validation_curve\n",
    "import pandas as pd\n",
    "from pathlib import Path\n",
    "from sklearn.ensemble import GradientBoostingClassifier, AdaBoostClassifier\n",
    "import numpy as np\n",
    "import matplotlib.pyplot as plt\n",
    "from sklearn.feature_selection import SelectFromModel\n",
    "from sklearn.svm import LinearSVC\n"
   ]
  },
  {
   "cell_type": "code",
   "execution_count": 2,
   "outputs": [],
   "source": [
    "gbc_params = {\n",
    "    \"learning_rate\": 0.85,\n",
    "    \"max_features\": 0.05,\n",
    "    \"max_depth\": 10,\n",
    "    \"min_samples_split\": 520,\n",
    "    \"min_samples_leaf\": 15,\n",
    "    \"n_estimators\": 400\n",
    "}\n",
    "\n",
    "abc_params = {\n",
    "    \"algorithm\": \"SAMME.R\",\n",
    "    \"learning_rate\": 0.90,\n",
    "    \"n_estimators\": 500\n",
    "}\n",
    "\n",
    "lsvc_params = {\"C\": 0.1}"
   ],
   "metadata": {
    "collapsed": false,
    "pycharm": {
     "name": "#%%\n"
    }
   }
  },
  {
   "cell_type": "code",
   "execution_count": 3,
   "outputs": [],
   "source": [
    "# train data\n",
    "base = Path().resolve().parents[1] / r'data/subsets/gender_final_small'\n",
    "locations = [str(base) + str(i) + '.csv' for i in range(1, 10)]\n",
    "\n",
    "# Have 9000 names sampled at random.\n",
    "X = pd.concat([pd.read_csv(location) for location in locations], axis=0)\n",
    "y = X[\"Gender\"]\n",
    "X.drop(labels=\"Gender\", inplace=True, axis=1)\n",
    "\n",
    "# validation data\n",
    "validation_data = Path().resolve().parents[1] / 'data/gender_final_small.csv'\n",
    "X_val = pd.read_csv(validation_data)\n",
    "y_val = X_val[\"Gender\"]\n",
    "X_val.drop(labels=\"Gender\", inplace=True, axis=1)"
   ],
   "metadata": {
    "collapsed": false,
    "pycharm": {
     "name": "#%%\n"
    }
   }
  },
  {
   "cell_type": "code",
   "execution_count": 4,
   "outputs": [],
   "source": [
    "# vectorize and convert to floats\n",
    "vectorizer = CountVectorizer(analyzer='char', ngram_range=(2,10), decode_error='replace', binary=True)\n",
    "scaler = MaxAbsScaler()\n",
    "\n",
    "X = vectorizer.fit_transform(X['Name'])\n",
    "X = scaler.fit_transform(X)\n",
    "\n",
    "X_val = vectorizer.transform(X_val['Name'])\n",
    "X_val = scaler.transform(X_val)"
   ],
   "metadata": {
    "collapsed": false,
    "pycharm": {
     "name": "#%%\n"
    }
   }
  },
  {
   "cell_type": "code",
   "execution_count": 5,
   "outputs": [],
   "source": [
    "abc_clf = AdaBoostClassifier(algorithm=abc_params[\"algorithm\"],\n",
    "                             n_estimators=abc_params[\"n_estimators\"],\n",
    "                             learning_rate=abc_params[\"learning_rate\"],\n",
    "                             random_state=0)\n",
    "\n",
    "gbc_clf = GradientBoostingClassifier(learning_rate=gbc_params[\"learning_rate\"],\n",
    "                                     max_features=gbc_params[\"max_features\"],\n",
    "                                     min_samples_split=gbc_params[\"min_samples_split\"],\n",
    "                                     n_estimators=gbc_params[\"n_estimators\"],\n",
    "                                     max_depth=gbc_params[\"max_depth\"],\n",
    "                                     min_samples_leaf=gbc_params[\"min_samples_leaf\"],\n",
    "                                     random_state=0)\n",
    "\n",
    "lsvc_clf = LinearSVC(C=lsvc_params['C'])\n"
   ],
   "metadata": {
    "collapsed": false,
    "pycharm": {
     "name": "#%%\n"
    }
   }
  },
  {
   "cell_type": "code",
   "execution_count": 11,
   "outputs": [
    {
     "name": "stdout",
     "output_type": "stream",
     "text": [
      "Before:  (9000, 63889)\n",
      "After:  (9000, 1088)\n"
     ]
    }
   ],
   "source": [
    "gbc_clf.fit(X, y)\n",
    "selector = SelectFromModel(gbc_clf, prefit=True)\n",
    "X_selected = selector.transform(X)\n",
    "print(\"Before: \", X.shape)\n",
    "print(\"After: \", X_selected.shape)"
   ],
   "metadata": {
    "collapsed": false,
    "pycharm": {
     "name": "#%%\n"
    }
   }
  },
  {
   "cell_type": "code",
   "execution_count": 12,
   "outputs": [
    {
     "data": {
      "text/plain": "0.9297777777777778"
     },
     "execution_count": 12,
     "metadata": {},
     "output_type": "execute_result"
    }
   ],
   "source": [
    "gbc_clf.score(X, y)"
   ],
   "metadata": {
    "collapsed": false,
    "pycharm": {
     "name": "#%%\n"
    }
   }
  },
  {
   "cell_type": "code",
   "execution_count": 15,
   "outputs": [
    {
     "name": "stdout",
     "output_type": "stream",
     "text": [
      "(1000, 1088)\n"
     ]
    }
   ],
   "source": [
    "X_val_selected = selector.transform(X_val)\n",
    "print(X_val_selected.shape)"
   ],
   "metadata": {
    "collapsed": false,
    "pycharm": {
     "name": "#%%\n"
    }
   }
  },
  {
   "cell_type": "code",
   "execution_count": 22,
   "outputs": [
    {
     "name": "stdout",
     "output_type": "stream",
     "text": [
      "Using all features:Training  0.9934444444444445\n",
      "Using all features:Validation  0.838\n",
      "Shaped reduced from 63889 to 23805, difference is 40084\n",
      "Using selected features:Training  0.9921111111111112\n",
      "Using selected features:Validation  0.841\n"
     ]
    }
   ],
   "source": [
    "lsvc_clf.fit(X, y)\n",
    "print(\"Using all features:Training \", lsvc_clf.score(X, y))\n",
    "print(\"Using all features:Validation \", lsvc_clf.score(X_val, y_val))\n",
    "\n",
    "selector = SelectFromModel(lsvc_clf, prefit=True)\n",
    "X_selected = selector.transform(X)\n",
    "X_val_selected = selector.transform(X_val)\n",
    "print(\"Shaped reduced from {} to {}, difference is {}\".format(X.shape[1],\n",
    "                                                              X_selected.shape[1],\n",
    "                                                              X.shape[1] - X_selected.shape[1]))\n",
    "\n",
    "lsvc_clf.fit(X_selected, y)\n",
    "print(\"Using selected features:Training \", lsvc_clf.score(X_selected, y))\n",
    "print(\"Using selected features:Validation \", lsvc_clf.score(X_val_selected, y_val))"
   ],
   "metadata": {
    "collapsed": false,
    "pycharm": {
     "name": "#%%\n"
    }
   }
  },
  {
   "cell_type": "code",
   "execution_count": 23,
   "outputs": [
    {
     "name": "stdout",
     "output_type": "stream",
     "text": [
      "Using all features:Training  0.8517777777777777\n",
      "Using all features:Validation  0.786\n",
      "Shaped reduced from 63889 to 434, difference is 63455\n",
      "Using selected features:Training  0.8517777777777777\n",
      "Using selected features:Validation  0.786\n"
     ]
    }
   ],
   "source": [
    "abc_clf.fit(X, y)\n",
    "print(\"Using all features:Training \", abc_clf.score(X, y))\n",
    "print(\"Using all features:Validation \", abc_clf.score(X_val, y_val))\n",
    "\n",
    "selector = SelectFromModel(abc_clf, prefit=True)\n",
    "X_selected = selector.transform(X)\n",
    "X_val_selected = selector.transform(X_val)\n",
    "print(\"Shaped reduced from {} to {}, difference is {}\".format(X.shape[1],\n",
    "                                                              X_selected.shape[1],\n",
    "                                                              X.shape[1] - X_selected.shape[1]))\n",
    "\n",
    "abc_clf.fit(X_selected, y)\n",
    "print(\"Using selected features:Training \", abc_clf.score(X_selected, y))\n",
    "print(\"Using selected features:Validation \", abc_clf.score(X_val_selected, y_val))"
   ],
   "metadata": {
    "collapsed": false,
    "pycharm": {
     "name": "#%%\n"
    }
   }
  },
  {
   "cell_type": "code",
   "execution_count": 19,
   "outputs": [
    {
     "name": "stdout",
     "output_type": "stream",
     "text": [
      "Using all features:Training  0.9297777777777778\n",
      "Using all features:Validation  0.8\n",
      "Using selected features:Training  0.9295555555555556\n",
      "Using selected features:Validation  0.816\n"
     ]
    }
   ],
   "source": [
    "gbc_clf.fit(X, y)\n",
    "print(\"Using all features:Training \", gbc_clf.score(X, y))\n",
    "print(\"Using all features:Validation \", gbc_clf.score(X_val, y_val))\n",
    "\n",
    "selector = SelectFromModel(gbc_clf, prefit=True)\n",
    "X_selected = selector.transform(X)\n",
    "X_val_selected = selector.transform(X_val)\n",
    "print(\"Shaped reduced from {} to {}, difference is {}\".format(X.shape[1],\n",
    "                                                              X_selected.shape[1],\n",
    "                                                              X.shape[1] - X_selected.shape[1]))\n",
    "\n",
    "gbc_clf.fit(X_selected, y)\n",
    "print(\"Using selected features:Training \", gbc_clf.score(X_selected, y))\n",
    "print(\"Using selected features:Validation \", gbc_clf.score(X_val_selected, y_val))"
   ],
   "metadata": {
    "collapsed": false,
    "pycharm": {
     "name": "#%%\n"
    }
   }
  },
  {
   "cell_type": "code",
   "execution_count": null,
   "outputs": [],
   "source": [],
   "metadata": {
    "collapsed": false,
    "pycharm": {
     "name": "#%%\n"
    }
   }
  }
 ],
 "metadata": {
  "kernelspec": {
   "display_name": "Python 3",
   "language": "python",
   "name": "python3"
  },
  "language_info": {
   "codemirror_mode": {
    "name": "ipython",
    "version": 2
   },
   "file_extension": ".py",
   "mimetype": "text/x-python",
   "name": "python",
   "nbconvert_exporter": "python",
   "pygments_lexer": "ipython2",
   "version": "2.7.6"
  }
 },
 "nbformat": 4,
 "nbformat_minor": 0
}