{
 "cells": [
  {
   "cell_type": "markdown",
   "metadata": {
    "collapsed": true,
    "pycharm": {
     "name": "#%% md\n"
    }
   },
   "source": [
    "Searching for parameters that we can use for our `AdaBoostClassifier` using the technique of\n",
    "`GridSearchCV`.\n",
    "We'll improvise on the following parameters:\n",
    "\n",
    "   `algorithm`, default: 'SAMME.R',\n",
    "\n",
    "   `learning_rate`, default: 1.0,\n",
    "\n",
    "   `n_estimators`, default: 50,\n"
   ]
  },
  {
   "cell_type": "code",
   "execution_count": 1,
   "outputs": [],
   "source": [
    "param_dict = {\n",
    "    \"algorithm\": 'SAMME.R',\n",
    "    \"learning_rate\": 1.0,\n",
    "    \"n_estimators\": 50\n",
    "}"
   ],
   "metadata": {
    "collapsed": false,
    "pycharm": {
     "name": "#%%\n"
    }
   }
  },
  {
   "cell_type": "code",
   "execution_count": 2,
   "outputs": [
    {
     "data": {
      "text/plain": "<contextlib._GeneratorContextManager at 0x2e0ef990ec8>"
     },
     "execution_count": 2,
     "metadata": {},
     "output_type": "execute_result"
    }
   ],
   "source": [
    "from sklearn.feature_extraction.text import CountVectorizer\n",
    "from sklearn.preprocessing import MaxAbsScaler\n",
    "import pandas as pd\n",
    "from sklearn.ensemble import AdaBoostClassifier\n",
    "import numpy as np\n",
    "from sklearn.model_selection import GridSearchCV\n",
    "import matplotlib.pyplot as plt\n",
    "from pathlib import Path\n",
    "\n",
    "np.printoptions(precision=3)"
   ],
   "metadata": {
    "collapsed": false,
    "pycharm": {
     "name": "#%%\n"
    }
   }
  },
  {
   "cell_type": "code",
   "execution_count": 3,
   "outputs": [],
   "source": [
    "base = Path().resolve().parents[1] / r'data/subsets/gender_final_small'\n",
    "locations = [str(base) + str(i) + '.csv' for i in range(1, 10)]\n",
    "\n",
    "# Have 9000 names sampled at random.\n",
    "X = pd.concat([pd.read_csv(location) for location in locations], axis=0)\n",
    "y = X[\"Gender\"]\n",
    "X.drop(labels=\"Gender\", inplace=True, axis=1)"
   ],
   "metadata": {
    "collapsed": false,
    "pycharm": {
     "name": "#%%\n"
    }
   }
  },
  {
   "cell_type": "code",
   "execution_count": 4,
   "outputs": [],
   "source": [
    "# vectorize and convert to floats\n",
    "vectorizer = CountVectorizer(analyzer='char', ngram_range=(2,10),\n",
    "                             decode_error='replace', binary=True)\n",
    "X = vectorizer.fit_transform(X['Name'])\n",
    "\n",
    "scaler = MaxAbsScaler()\n",
    "X = scaler.fit_transform(X)"
   ],
   "metadata": {
    "collapsed": false,
    "pycharm": {
     "name": "#%%\n"
    }
   }
  },
  {
   "cell_type": "code",
   "execution_count": 5,
   "outputs": [],
   "source": [
    "# Create an instance of ABC\n",
    "abc_clf = AdaBoostClassifier(algorithm=param_dict[\"algorithm\"],\n",
    "                             learning_rate=param_dict[\"learning_rate\"],\n",
    "                             n_estimators=param_dict[\"n_estimators\"])"
   ],
   "metadata": {
    "collapsed": false,
    "pycharm": {
     "name": "#%%\n"
    }
   }
  },
  {
   "cell_type": "code",
   "execution_count": 7,
   "outputs": [],
   "source": [
    "param_grid = {\n",
    "    \"algorithm\": [\"SAMME.R\", \"SAMME\"],\n",
    "    \"learning_rate\": np.linspace(0.3, 3, 10),\n",
    "    \"n_estimators\": np.arange(100, 501, 100)\n",
    "}"
   ],
   "metadata": {
    "collapsed": false,
    "pycharm": {
     "name": "#%%\n"
    }
   }
  },
  {
   "cell_type": "code",
   "execution_count": 8,
   "outputs": [
    {
     "data": {
      "text/plain": "GridSearchCV(cv=3, error_score='raise-deprecating',\n             estimator=AdaBoostClassifier(algorithm='SAMME.R',\n                                          base_estimator=None,\n                                          learning_rate=1.0, n_estimators=50,\n                                          random_state=None),\n             iid='warn', n_jobs=-1,\n             param_grid={'algorithm': ['SAMME.R', 'SAMME'],\n                         'learning_rate': array([0.3, 0.6, 0.9, 1.2, 1.5, 1.8, 2.1, 2.4, 2.7, 3. ]),\n                         'n_estimators': array([100, 200, 300, 400, 500])},\n             pre_dispatch='2*n_jobs', refit=True, return_train_score=True,\n             scoring=None, verbose=0)"
     },
     "execution_count": 8,
     "metadata": {},
     "output_type": "execute_result"
    }
   ],
   "source": [
    "search = GridSearchCV(abc_clf, param_grid, n_jobs=-1,\n",
    "                      cv=3, return_train_score=True, verbose=3)\n",
    "search.fit(X, y)"
   ],
   "metadata": {
    "collapsed": false,
    "pycharm": {
     "name": "#%%\n"
    }
   }
  },
  {
   "cell_type": "code",
   "execution_count": 9,
   "outputs": [
    {
     "name": "stdout",
     "output_type": "stream",
     "text": [
      "{'algorithm': 'SAMME.R', 'learning_rate': 0.9000000000000001, 'n_estimators': 500}\n"
     ]
    }
   ],
   "source": [
    "print(search.best_params_)\n"
   ],
   "metadata": {
    "collapsed": false,
    "pycharm": {
     "name": "#%%\n"
    }
   }
  },
  {
   "cell_type": "code",
   "execution_count": 10,
   "outputs": [
    {
     "name": "stdout",
     "output_type": "stream",
     "text": [
      "0.7657777777777778\n"
     ]
    }
   ],
   "source": [
    "print(search.best_score_)\n"
   ],
   "metadata": {
    "collapsed": false,
    "pycharm": {
     "name": "#%%\n"
    }
   }
  },
  {
   "cell_type": "code",
   "execution_count": null,
   "outputs": [],
   "source": [],
   "metadata": {
    "collapsed": false,
    "pycharm": {
     "name": "#%%\n"
    }
   }
  }
 ],
 "metadata": {
  "kernelspec": {
   "display_name": "Python 3",
   "language": "python",
   "name": "python3"
  },
  "language_info": {
   "codemirror_mode": {
    "name": "ipython",
    "version": 2
   },
   "file_extension": ".py",
   "mimetype": "text/x-python",
   "name": "python",
   "nbconvert_exporter": "python",
   "pygments_lexer": "ipython2",
   "version": "2.7.6"
  }
 },
 "nbformat": 4,
 "nbformat_minor": 0
}