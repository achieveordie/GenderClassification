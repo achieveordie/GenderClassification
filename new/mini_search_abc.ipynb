{
 "cells": [
  {
   "cell_type": "markdown",
   "metadata": {
    "collapsed": true,
    "pycharm": {
     "name": "#%% md\n"
    }
   },
   "source": [
    "Searching for parameters that we can use for our `AdaBoostClassifier` using the technique of\n",
    "`GridSearchCV`.\n",
    "We'll improvise on the following parameters:\n",
    "\n",
    "   `algorithm`, default: 'SAMME.R',\n",
    "\n",
    "   `learning_rate`, default: 1.0,\n",
    "\n",
    "   `n_estimators`, default: 50,\n"
   ]
  },
  {
   "cell_type": "code",
   "execution_count": null,
   "outputs": [],
   "source": [
    "param_dict = {\n",
    "    \"algorithm\": 'SAMME.R',\n",
    "    \"learning_rate\": 1.0,\n",
    "    \"n_estimators\": 50\n",
    "}"
   ],
   "metadata": {
    "collapsed": false,
    "pycharm": {
     "name": "#%%\n"
    }
   }
  },
  {
   "cell_type": "code",
   "execution_count": null,
   "outputs": [],
   "source": [
    "from sklearn.feature_extraction.text import CountVectorizer\n",
    "from sklearn.preprocessing import MaxAbsScaler\n",
    "import pandas as pd\n",
    "from sklearn.ensemble import AdaBoostClassifier\n",
    "import numpy as np\n",
    "from sklearn.model_selection import GridSearchCV\n",
    "import matplotlib.pyplot as plt\n",
    "from pathlib import Path\n",
    "\n",
    "np.printoptions(precision=3)"
   ],
   "metadata": {
    "collapsed": false,
    "pycharm": {
     "name": "#%%\n"
    }
   }
  },
  {
   "cell_type": "code",
   "execution_count": null,
   "outputs": [],
   "source": [
    "base = Path().resolve().parents[1] / r'data/subsets/gender_final_small'\n",
    "locations = [str(base) + str(i) + '.csv' for i in range(1, 10)]\n",
    "\n",
    "# Have 9000 names sampled at random.\n",
    "X = pd.concat([pd.read_csv(location) for location in locations], axis=0)\n",
    "y = X[\"Gender\"]\n",
    "X.drop(labels=\"Gender\", inplace=True, axis=1)"
   ],
   "metadata": {
    "collapsed": false,
    "pycharm": {
     "name": "#%%\n"
    }
   }
  },
  {
   "cell_type": "code",
   "execution_count": null,
   "outputs": [],
   "source": [
    "# vectorize and convert to floats\n",
    "vectorizer = CountVectorizer(analyzer='char', ngram_range=(2,10),\n",
    "                             decode_error='replace', binary=True)\n",
    "X = vectorizer.fit_transform(X['Name'])\n",
    "\n",
    "scaler = MaxAbsScaler()\n",
    "X = scaler.fit_transform(X)"
   ],
   "metadata": {
    "collapsed": false,
    "pycharm": {
     "name": "#%%\n"
    }
   }
  },
  {
   "cell_type": "code",
   "execution_count": null,
   "outputs": [],
   "source": [
    "# Create an instance of ABC\n",
    "abc_clf = AdaBoostClassifier(algorithm=param_dict[\"algorithm\"],\n",
    "                             learning_rate=param_dict[\"learning_rate\"],\n",
    "                             n_estimators=param_dict[\"n_estimators\"])"
   ],
   "metadata": {
    "collapsed": false,
    "pycharm": {
     "name": "#%%\n"
    }
   }
  },
  {
   "cell_type": "code",
   "execution_count": null,
   "outputs": [],
   "source": [],
   "metadata": {
    "collapsed": false,
    "pycharm": {
     "name": "#%%\n"
    }
   }
  }
 ],
 "metadata": {
  "kernelspec": {
   "display_name": "Python 3",
   "language": "python",
   "name": "python3"
  },
  "language_info": {
   "codemirror_mode": {
    "name": "ipython",
    "version": 2
   },
   "file_extension": ".py",
   "mimetype": "text/x-python",
   "name": "python",
   "nbconvert_exporter": "python",
   "pygments_lexer": "ipython2",
   "version": "2.7.6"
  }
 },
 "nbformat": 4,
 "nbformat_minor": 0
}