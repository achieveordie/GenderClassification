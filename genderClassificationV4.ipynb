{
 "cells": [
  {
   "cell_type": "code",
   "execution_count": 1,
   "metadata": {},
   "outputs": [],
   "source": [
    "from sklearn.feature_extraction.text import CountVectorizer\n",
    "from sklearn.preprocessing import MaxAbsScaler\n",
    "from sklearn.model_selection import train_test_split\n",
    "from sklearn.ensemble import GradientBoostingClassifier\n",
    "import pandas as pd\n",
    "import numpy as np\n",
    "\n",
    "vectorizer = CountVectorizer(analyzer='char_wb', ngram_range=(1, 7), decode_error=\"replace\")\n",
    "location = r'D:\\Testing_Name.csv'\n",
    "data = pd.read_csv(location)\n",
    "list_to_delete = []\n",
    "for i, gender in enumerate(data[\"Gender\"]):\n",
    "  if  gender == 3:\n",
    "    list_to_delete.append(i)\n",
    "data.drop(index=list_to_delete, inplace = True)\n",
    "y = data[\"Gender\"]\n",
    "data.drop(labels=\"Gender\", inplace = True, axis = 1)\n",
    "X = vectorizer.fit_transform(data['Name'])\n",
    "\n",
    "scaler = MaxAbsScaler()\n",
    "X = scaler.fit_transform(X)\n",
    "val_size = 0.2\n",
    "state = 12\n",
    "X_train, X_val, y_train, y_val = train_test_split(X, y,\n",
    "                                                 test_size=val_size,\n",
    "                                                 random_state=state,\n",
    "                                                 shuffle = True)\n"
   ]
  },
  {
   "cell_type": "code",
   "execution_count": 2,
   "metadata": {},
   "outputs": [
    {
     "name": "stdout",
     "output_type": "stream",
     "text": [
      "      Iter       Train Loss   Remaining Time \n",
      "         1           1.3383            6.66m\n",
      "         2           1.3322            6.25m\n",
      "         3           1.3298            6.24m\n",
      "         4           1.3247            6.27m\n",
      "         5           1.3193            6.28m\n",
      "         6           1.3160            6.24m\n",
      "         7           1.3138            6.26m\n",
      "         8           1.3107            6.22m\n",
      "         9           1.3034            6.18m\n",
      "        10           1.2979            6.20m\n",
      "        20           1.2552            5.80m\n",
      "        30           1.2152            5.40m\n",
      "        40           1.1843            5.07m\n",
      "        50           1.1593            4.75m\n",
      "        60           1.1287            4.69m\n",
      "        70           1.0995            4.40m\n",
      "        80           1.0786            4.06m\n",
      "        90           1.0580            3.73m\n",
      "       100           1.0373            3.36m\n",
      "       200           0.8603            0.00s\n",
      "Min Samples Split:  1000\n",
      "Accuracy score (training):0.834\n",
      "Accuracy score (validation):0.829\n"
     ]
    }
   ],
   "source": [
    "learning_rate = 0.1\n",
    "n_estimators = 200\n",
    "max_features = 'sqrt'\n",
    "max_depth = 15\n",
    "min_samples_split = 1000\n",
    "min_samples_leaf = 50\n",
    "\n",
    "gb_clf = GradientBoostingClassifier(learning_rate=learning_rate,\n",
    "                                     n_estimators=n_estimators,\n",
    "                                     max_features=max_features,\n",
    "                                     max_depth=12,\n",
    "                                     min_samples_split=min_samples_split,\n",
    "                                     min_samples_leaf=min_samples_leaf,\n",
    "                                     verbose=1,\n",
    "                                     random_state=0)\n",
    "gb_clf.fit(X_train, y_train)\n",
    "print(\"Min Samples Split: \", min_samples_split)\n",
    "print(\"Accuracy score (training):{0:.3f}\".format(gb_clf.score(X_train, y_train)))\n",
    "print(\"Accuracy score (validation):{0:.3f}\".format(gb_clf.score(X_val, y_val)))"
   ]
  },
  {
   "cell_type": "code",
   "execution_count": 3,
   "metadata": {},
   "outputs": [],
   "source": [
    "import json\n",
    "import pickle\n",
    "\n",
    "modelGenderClassification = r'C:\\Users\\Sagar Mishra\\jupyter notebooks\\GenderClassification\\genderClassificationV4.sav'\n",
    "dict_saved_location = r'C:\\Users\\Sagar Mishra\\jupyter notebooks\\GenderClassification\\feature.pkl'\n",
    "\n",
    "dict_save = vectorizer.vocabulary_\n",
    "pickle.dump(vectorizer.vocabulary_, open(dict_saved_location, \"wb\"))\n",
    "pickle.dump(gb_clf, open(modelGenderClassification, 'wb'))"
   ]
  },
  {
   "cell_type": "code",
   "execution_count": null,
   "metadata": {},
   "outputs": [],
   "source": [
    "y_train[0:10]"
   ]
  },
  {
   "cell_type": "code",
   "execution_count": null,
   "metadata": {},
   "outputs": [],
   "source": []
  }
 ],
 "metadata": {
  "kernelspec": {
   "display_name": "Python 3",
   "language": "python",
   "name": "python3"
  },
  "language_info": {
   "codemirror_mode": {
    "name": "ipython",
    "version": 3
   },
   "file_extension": ".py",
   "mimetype": "text/x-python",
   "name": "python",
   "nbconvert_exporter": "python",
   "pygments_lexer": "ipython3",
   "version": "3.7.4"
  }
 },
 "nbformat": 4,
 "nbformat_minor": 2
}
